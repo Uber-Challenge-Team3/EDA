{
 "cells": [
  {
   "cell_type": "markdown",
   "metadata": {},
   "source": [
    "# <font color='#eb3483'> Uber Movement SANRAL Cape Town Challenge </font>\n",
    " \n",
    "The objective of this challenge is to build a machine learning model that accurately predicts when and where the next road incident will occur in Cape Town"
   ]
  },
  {
   "cell_type": "code",
   "execution_count": 6,
   "metadata": {},
   "outputs": [],
   "source": [
    "import numpy as np\n",
    "import pandas as pd\n",
    "import seaborn as sns\n",
    "import ast, json\n",
    "\n",
    "from datetime import datetime\n",
    "import matplotlib.pyplot as plt\n",
    "%matplotlib inline"
   ]
  },
  {
   "cell_type": "markdown",
   "metadata": {},
   "source": [
    "### 1. Loading and inspect your data"
   ]
  },
  {
   "cell_type": "code",
   "execution_count": 7,
   "metadata": {},
   "outputs": [
    {
     "name": "stdout",
     "output_type": "stream",
     "text": [
      "<class 'pandas.core.frame.DataFrame'>\n",
      "RangeIndex: 53845 entries, 0 to 53844\n",
      "Data columns (total 9 columns):\n",
      "EventId                       53845 non-null int64\n",
      "Occurrence Local Date Time    53845 non-null object\n",
      "Reporting Agency              52226 non-null object\n",
      "Cause                         53845 non-null object\n",
      "Subcause                      53845 non-null object\n",
      "Status                        53845 non-null object\n",
      "longitude                     53845 non-null object\n",
      "latitude                      53845 non-null float64\n",
      "road_segment_id               53845 non-null object\n",
      "dtypes: float64(1), int64(1), object(7)\n",
      "memory usage: 3.7+ MB\n"
     ]
    },
    {
     "data": {
      "text/html": [
       "<div>\n",
       "<style scoped>\n",
       "    .dataframe tbody tr th:only-of-type {\n",
       "        vertical-align: middle;\n",
       "    }\n",
       "\n",
       "    .dataframe tbody tr th {\n",
       "        vertical-align: top;\n",
       "    }\n",
       "\n",
       "    .dataframe thead th {\n",
       "        text-align: right;\n",
       "    }\n",
       "</style>\n",
       "<table border=\"1\" class=\"dataframe\">\n",
       "  <thead>\n",
       "    <tr style=\"text-align: right;\">\n",
       "      <th></th>\n",
       "      <th>EventId</th>\n",
       "      <th>Occurrence Local Date Time</th>\n",
       "      <th>Reporting Agency</th>\n",
       "      <th>Cause</th>\n",
       "      <th>Subcause</th>\n",
       "      <th>Status</th>\n",
       "      <th>longitude</th>\n",
       "      <th>latitude</th>\n",
       "      <th>road_segment_id</th>\n",
       "    </tr>\n",
       "  </thead>\n",
       "  <tbody>\n",
       "    <tr>\n",
       "      <td>0</td>\n",
       "      <td>60558</td>\n",
       "      <td>01/01/16 00:53</td>\n",
       "      <td>Cam</td>\n",
       "      <td>Stationary Vehicle</td>\n",
       "      <td>Vehicle On Shoulder</td>\n",
       "      <td>Closed</td>\n",
       "      <td>18.5408955032</td>\n",
       "      <td>-33.888275</td>\n",
       "      <td>S0B3CGQ</td>\n",
       "    </tr>\n",
       "    <tr>\n",
       "      <td>1</td>\n",
       "      <td>60559</td>\n",
       "      <td>01/01/16 00:54</td>\n",
       "      <td>CAMERA</td>\n",
       "      <td>Accident</td>\n",
       "      <td>With A Fixed Object</td>\n",
       "      <td>Closed</td>\n",
       "      <td>18.9307563219</td>\n",
       "      <td>-34.140857</td>\n",
       "      <td>RYJYAPI</td>\n",
       "    </tr>\n",
       "    <tr>\n",
       "      <td>2</td>\n",
       "      <td>60560</td>\n",
       "      <td>01/01/16 02:26</td>\n",
       "      <td>Law Enforcement</td>\n",
       "      <td>Accident</td>\n",
       "      <td>Multi Vehicle</td>\n",
       "      <td>Closed</td>\n",
       "      <td>18.5533575029</td>\n",
       "      <td>-33.959154</td>\n",
       "      <td>U3KP57C</td>\n",
       "    </tr>\n",
       "    <tr>\n",
       "      <td>3</td>\n",
       "      <td>60561</td>\n",
       "      <td>01/01/16 02:56</td>\n",
       "      <td>CAMERA</td>\n",
       "      <td>Stationary Vehicle</td>\n",
       "      <td>Vehicle On Shoulder</td>\n",
       "      <td>Closed</td>\n",
       "      <td>18.6775561589</td>\n",
       "      <td>-33.895258</td>\n",
       "      <td>RY0TRQ8</td>\n",
       "    </tr>\n",
       "    <tr>\n",
       "      <td>4</td>\n",
       "      <td>60562</td>\n",
       "      <td>01/01/16 03:40</td>\n",
       "      <td>CAMERA</td>\n",
       "      <td>Accident</td>\n",
       "      <td>Multi Vehicle</td>\n",
       "      <td>Closed</td>\n",
       "      <td>18.8371319682</td>\n",
       "      <td>-34.087051</td>\n",
       "      <td>8LOVJZ3</td>\n",
       "    </tr>\n",
       "  </tbody>\n",
       "</table>\n",
       "</div>"
      ],
      "text/plain": [
       "   EventId Occurrence Local Date Time Reporting Agency               Cause  \\\n",
       "0    60558             01/01/16 00:53              Cam  Stationary Vehicle   \n",
       "1    60559             01/01/16 00:54           CAMERA            Accident   \n",
       "2    60560             01/01/16 02:26  Law Enforcement            Accident   \n",
       "3    60561             01/01/16 02:56           CAMERA  Stationary Vehicle   \n",
       "4    60562             01/01/16 03:40           CAMERA            Accident   \n",
       "\n",
       "              Subcause  Status      longitude   latitude road_segment_id  \n",
       "0  Vehicle On Shoulder  Closed  18.5408955032 -33.888275         S0B3CGQ  \n",
       "1  With A Fixed Object  Closed  18.9307563219 -34.140857         RYJYAPI  \n",
       "2        Multi Vehicle  Closed  18.5533575029 -33.959154         U3KP57C  \n",
       "3  Vehicle On Shoulder  Closed  18.6775561589 -33.895258         RY0TRQ8  \n",
       "4        Multi Vehicle  Closed  18.8371319682 -34.087051         8LOVJZ3  "
      ]
     },
     "execution_count": 7,
     "metadata": {},
     "output_type": "execute_result"
    }
   ],
   "source": [
    "df = pd.read_csv('data/train.csv')\n",
    "df.info()\n",
    "df.head()"
   ]
  },
  {
   "cell_type": "code",
   "execution_count": 8,
   "metadata": {},
   "outputs": [
    {
     "data": {
      "text/plain": [
       "EventId                       53845\n",
       "Occurrence Local Date Time    50499\n",
       "Reporting Agency                224\n",
       "Cause                            24\n",
       "Subcause                         58\n",
       "Status                            4\n",
       "longitude                     49132\n",
       "latitude                      48947\n",
       "road_segment_id                 549\n",
       "dtype: int64"
      ]
     },
     "execution_count": 8,
     "metadata": {},
     "output_type": "execute_result"
    }
   ],
   "source": [
    "df.apply('nunique')"
   ]
  },
  {
   "cell_type": "code",
   "execution_count": 9,
   "metadata": {},
   "outputs": [
    {
     "name": "stdout",
     "output_type": "stream",
     "text": [
      "['Stationary Vehicle' 'Accident' 'Police and Military' 'Congestion' 'Fire'\n",
      " 'Routine Road Maintenance' 'Pedestrians' 'Obstruction' 'Lost Load'\n",
      " 'Field Device Maintenance' 'HAZMAT' 'Poor Visibility' 'Road Construction'\n",
      " 'Weather Conditions' 'Sporting Events' 'Cam' 'cdam' 'cam' 'Crash'\n",
      " 'Concerts/Other' 'Arrestor' 'Roadworks' 'Fire & Smoke'\n",
      " 'Weather & Road Conditions']\n",
      "['Vehicle On Shoulder' 'With A Fixed Object' 'Multi Vehicle'\n",
      " 'Single Vehicle' 'Road Rage' 'Light Delivery Vehicle' 'Any' 'Minibus'\n",
      " 'Veld Fire' 'Heavy' 'Motor Car' 'Vehicles On Shoulder' 'Animal'\n",
      " 'Protesting' 'Hijacking' 'Vehicle Fire' 'Road Block' 'Building Fire'\n",
      " 'Bus' 'Bumper Bash' 'Other' 'With A Pedestrian' 'Overturned Vehicle'\n",
      " 'Non-Flammable/Non-Toxic Gases' 'Jack Knife Truck'\n",
      " 'Bomb Threat/Terrorist/Shooting' 'Motorcycle' 'Smoke' 'Vehicle On Fire'\n",
      " 'Heavy Vehicle' 'Flooding' 'Debris' 'Substances Dangerous When Wet'\n",
      " 'With An Animal' 'Dense Fog/Mist' 'Cash-In-Transit Heist' 'Flammable Gas'\n",
      " 'Downed Cables' 'Accident' 'Congestion' 'Routine Road Maintenance'\n",
      " 'Stationary Vehicle' 'Heavy Rain' 'Snow' 'Travel Lane' 'Shoulder Lane'\n",
      " 'Mainline Congestion' 'Ramp Congestion' 'Shooting' 'Fog/Mist' 'Lost Load'\n",
      " 'Drag Racing' 'Incident Congestion' 'Vehicle' 'Arrestor Bed'\n",
      " 'Robbery - Smash & Grab' 'Smoke Reducing Visibility' 'Medical']\n"
     ]
    }
   ],
   "source": [
    "print(df.Cause.unique())\n",
    "print(df.Subcause.unique())"
   ]
  },
  {
   "cell_type": "code",
   "execution_count": 10,
   "metadata": {},
   "outputs": [
    {
     "data": {
      "text/plain": [
       "Index(['EventId', 'Occurrence Local Date Time', 'Reporting Agency', 'Cause',\n",
       "       'Subcause', 'Status', 'longitude', 'latitude', 'road_segment_id'],\n",
       "      dtype='object')"
      ]
     },
     "execution_count": 10,
     "metadata": {},
     "output_type": "execute_result"
    }
   ],
   "source": [
    "df.columns.unique()"
   ]
  },
  {
   "cell_type": "code",
   "execution_count": 11,
   "metadata": {},
   "outputs": [
    {
     "data": {
      "text/html": [
       "<div>\n",
       "<style scoped>\n",
       "    .dataframe tbody tr th:only-of-type {\n",
       "        vertical-align: middle;\n",
       "    }\n",
       "\n",
       "    .dataframe tbody tr th {\n",
       "        vertical-align: top;\n",
       "    }\n",
       "\n",
       "    .dataframe thead th {\n",
       "        text-align: right;\n",
       "    }\n",
       "</style>\n",
       "<table border=\"1\" class=\"dataframe\">\n",
       "  <thead>\n",
       "    <tr style=\"text-align: right;\">\n",
       "      <th></th>\n",
       "      <th>Occurrence Local Date Time</th>\n",
       "      <th>Cause</th>\n",
       "      <th>Subcause</th>\n",
       "      <th>longitude</th>\n",
       "      <th>latitude</th>\n",
       "      <th>road_segment_id</th>\n",
       "    </tr>\n",
       "  </thead>\n",
       "  <tbody>\n",
       "    <tr>\n",
       "      <td>0</td>\n",
       "      <td>01/01/16 00:53</td>\n",
       "      <td>Stationary Vehicle</td>\n",
       "      <td>Vehicle On Shoulder</td>\n",
       "      <td>18.5408955032</td>\n",
       "      <td>-33.888275</td>\n",
       "      <td>S0B3CGQ</td>\n",
       "    </tr>\n",
       "    <tr>\n",
       "      <td>1</td>\n",
       "      <td>01/01/16 00:54</td>\n",
       "      <td>Accident</td>\n",
       "      <td>With A Fixed Object</td>\n",
       "      <td>18.9307563219</td>\n",
       "      <td>-34.140857</td>\n",
       "      <td>RYJYAPI</td>\n",
       "    </tr>\n",
       "    <tr>\n",
       "      <td>2</td>\n",
       "      <td>01/01/16 02:26</td>\n",
       "      <td>Accident</td>\n",
       "      <td>Multi Vehicle</td>\n",
       "      <td>18.5533575029</td>\n",
       "      <td>-33.959154</td>\n",
       "      <td>U3KP57C</td>\n",
       "    </tr>\n",
       "    <tr>\n",
       "      <td>3</td>\n",
       "      <td>01/01/16 02:56</td>\n",
       "      <td>Stationary Vehicle</td>\n",
       "      <td>Vehicle On Shoulder</td>\n",
       "      <td>18.6775561589</td>\n",
       "      <td>-33.895258</td>\n",
       "      <td>RY0TRQ8</td>\n",
       "    </tr>\n",
       "    <tr>\n",
       "      <td>4</td>\n",
       "      <td>01/01/16 03:40</td>\n",
       "      <td>Accident</td>\n",
       "      <td>Multi Vehicle</td>\n",
       "      <td>18.8371319682</td>\n",
       "      <td>-34.087051</td>\n",
       "      <td>8LOVJZ3</td>\n",
       "    </tr>\n",
       "  </tbody>\n",
       "</table>\n",
       "</div>"
      ],
      "text/plain": [
       "  Occurrence Local Date Time               Cause             Subcause  \\\n",
       "0             01/01/16 00:53  Stationary Vehicle  Vehicle On Shoulder   \n",
       "1             01/01/16 00:54            Accident  With A Fixed Object   \n",
       "2             01/01/16 02:26            Accident        Multi Vehicle   \n",
       "3             01/01/16 02:56  Stationary Vehicle  Vehicle On Shoulder   \n",
       "4             01/01/16 03:40            Accident        Multi Vehicle   \n",
       "\n",
       "       longitude   latitude road_segment_id  \n",
       "0  18.5408955032 -33.888275         S0B3CGQ  \n",
       "1  18.9307563219 -34.140857         RYJYAPI  \n",
       "2  18.5533575029 -33.959154         U3KP57C  \n",
       "3  18.6775561589 -33.895258         RY0TRQ8  \n",
       "4  18.8371319682 -34.087051         8LOVJZ3  "
      ]
     },
     "execution_count": 11,
     "metadata": {},
     "output_type": "execute_result"
    }
   ],
   "source": [
    "# drop the columns we listed above that we dont want. \n",
    "df = df.drop(\n",
    "    ['EventId','Reporting Agency','Status'], axis=1\n",
    ")\n",
    "df.head()"
   ]
  },
  {
   "cell_type": "markdown",
   "metadata": {},
   "source": [
    "### Removing duplicates"
   ]
  },
  {
   "cell_type": "code",
   "execution_count": 12,
   "metadata": {},
   "outputs": [
    {
     "name": "stdout",
     "output_type": "stream",
     "text": [
      "(53845, 6)\n"
     ]
    }
   ],
   "source": [
    "print(df.shape)\n",
    "\n",
    "# Rows containing duplicate data\n",
    "duplicate_rows_df = df[df.duplicated()]\n"
   ]
  },
  {
   "cell_type": "code",
   "execution_count": 13,
   "metadata": {},
   "outputs": [
    {
     "name": "stdout",
     "output_type": "stream",
     "text": [
      "(53839, 6)\n"
     ]
    }
   ],
   "source": [
    "df = df.drop_duplicates(keep='first')\n",
    "\n",
    "print(df.shape)"
   ]
  },
  {
   "cell_type": "code",
   "execution_count": 14,
   "metadata": {},
   "outputs": [
    {
     "name": "stdout",
     "output_type": "stream",
     "text": [
      "No duplicated entries found\n"
     ]
    }
   ],
   "source": [
    "# generate count statistics of duplicate entries\n",
    "if len(df[df.duplicated()]) > 0:\n",
    "    print(\"No. of duplicated entries: \", len(df[df.duplicated()]))\n",
    "    print(df[df.duplicated(keep=False)].sort_values(by=list(df.columns)).head())\n",
    "else:\n",
    "    print(\"No duplicated entries found\")"
   ]
  },
  {
   "cell_type": "code",
   "execution_count": 15,
   "metadata": {},
   "outputs": [
    {
     "data": {
      "text/html": [
       "<div>\n",
       "<style scoped>\n",
       "    .dataframe tbody tr th:only-of-type {\n",
       "        vertical-align: middle;\n",
       "    }\n",
       "\n",
       "    .dataframe tbody tr th {\n",
       "        vertical-align: top;\n",
       "    }\n",
       "\n",
       "    .dataframe thead th {\n",
       "        text-align: right;\n",
       "    }\n",
       "</style>\n",
       "<table border=\"1\" class=\"dataframe\">\n",
       "  <thead>\n",
       "    <tr style=\"text-align: right;\">\n",
       "      <th></th>\n",
       "      <th>latitude</th>\n",
       "    </tr>\n",
       "  </thead>\n",
       "  <tbody>\n",
       "    <tr>\n",
       "      <td>count</td>\n",
       "      <td>53839.000000</td>\n",
       "    </tr>\n",
       "    <tr>\n",
       "      <td>mean</td>\n",
       "      <td>-33.947963</td>\n",
       "    </tr>\n",
       "    <tr>\n",
       "      <td>std</td>\n",
       "      <td>0.511175</td>\n",
       "    </tr>\n",
       "    <tr>\n",
       "      <td>min</td>\n",
       "      <td>-34.153087</td>\n",
       "    </tr>\n",
       "    <tr>\n",
       "      <td>25%</td>\n",
       "      <td>-33.993633</td>\n",
       "    </tr>\n",
       "    <tr>\n",
       "      <td>50%</td>\n",
       "      <td>-33.950255</td>\n",
       "    </tr>\n",
       "    <tr>\n",
       "      <td>75%</td>\n",
       "      <td>-33.916789</td>\n",
       "    </tr>\n",
       "    <tr>\n",
       "      <td>max</td>\n",
       "      <td>18.839681</td>\n",
       "    </tr>\n",
       "  </tbody>\n",
       "</table>\n",
       "</div>"
      ],
      "text/plain": [
       "           latitude\n",
       "count  53839.000000\n",
       "mean     -33.947963\n",
       "std        0.511175\n",
       "min      -34.153087\n",
       "25%      -33.993633\n",
       "50%      -33.950255\n",
       "75%      -33.916789\n",
       "max       18.839681"
      ]
     },
     "execution_count": 15,
     "metadata": {},
     "output_type": "execute_result"
    }
   ],
   "source": [
    "df.describe()"
   ]
  },
  {
   "cell_type": "markdown",
   "metadata": {},
   "source": [
    "### 3. Missing Value"
   ]
  },
  {
   "cell_type": "code",
   "execution_count": 16,
   "metadata": {},
   "outputs": [
    {
     "name": "stdout",
     "output_type": "stream",
     "text": [
      "Occurrence Local Date Time    0\n",
      "Cause                         0\n",
      "Subcause                      0\n",
      "longitude                     0\n",
      "latitude                      0\n",
      "road_segment_id               0\n",
      "dtype: int64\n"
     ]
    }
   ],
   "source": [
    "print(df.isnull().sum())"
   ]
  },
  {
   "cell_type": "code",
   "execution_count": 17,
   "metadata": {
    "scrolled": true
   },
   "outputs": [
    {
     "data": {
      "image/png": "[encoded data removed]",
      "text/plain": [
       "<Figure size 1800x720 with 2 Axes>"
      ]
     },
     "metadata": {
      "needs_background": "light"
     },
     "output_type": "display_data"
    }
   ],
   "source": [
    "import missingno as msno\n",
    "msno.matrix(df);"
   ]
  },
  {
   "cell_type": "code",
   "execution_count": 18,
   "metadata": {},
   "outputs": [
    {
     "name": "stdout",
     "output_type": "stream",
     "text": [
      "('18.4247192601', 'Closed', -34.153086896, 18.8396805683)\n"
     ]
    }
   ],
   "source": [
    "# define the Bounding Box\n",
    "BBox = ((df.longitude.min(),   df.longitude.max(),      \n",
    "         df.latitude.min(), df.latitude.max()))\n",
    "print(BBox)"
   ]
  },
  {
   "cell_type": "code",
   "execution_count": 19,
   "metadata": {},
   "outputs": [
    {
     "name": "stdout",
     "output_type": "stream",
     "text": [
      "Collecting package metadata (current_repodata.json): done\n",
      "Solving environment: done\n",
      "\n",
      "# All requested packages already installed.\n",
      "\n",
      "\n",
      "Note: you may need to restart the kernel to use updated packages.\n"
     ]
    }
   ],
   "source": [
    "conda install geopandas"
   ]
  },
  {
   "cell_type": "code",
   "execution_count": 4,
   "metadata": {},
   "outputs": [],
   "source": [
    "import geopandas as gpd"
   ]
  },
  {
   "cell_type": "code",
   "execution_count": 5,
   "metadata": {},
   "outputs": [
    {
     "data": {
      "text/plain": [
       "geopandas.geodataframe.GeoDataFrame"
      ]
     },
     "execution_count": 5,
     "metadata": {},
     "output_type": "execute_result"
    }
   ],
   "source": [
    "road = gpd.read_file(\"data/road_segments/road_segments.shp\")\n",
    "type(road)"
   ]
  },
  {
   "cell_type": "code",
   "execution_count": 6,
   "metadata": {},
   "outputs": [
    {
     "data": {
      "text/html": [
       "<div>\n",
       "<style scoped>\n",
       "    .dataframe tbody tr th:only-of-type {\n",
       "        vertical-align: middle;\n",
       "    }\n",
       "\n",
       "    .dataframe tbody tr th {\n",
       "        vertical-align: top;\n",
       "    }\n",
       "\n",
       "    .dataframe thead th {\n",
       "        text-align: right;\n",
       "    }\n",
       "</style>\n",
       "<table border=\"1\" class=\"dataframe\">\n",
       "  <thead>\n",
       "    <tr style=\"text-align: right;\">\n",
       "      <th></th>\n",
       "      <th>ROADNO</th>\n",
       "      <th>CLASS</th>\n",
       "      <th>REGION</th>\n",
       "      <th>WIDTH</th>\n",
       "      <th>LANES</th>\n",
       "      <th>SURFTYPE</th>\n",
       "      <th>PAVETYPE</th>\n",
       "      <th>CONDITION</th>\n",
       "      <th>length_1</th>\n",
       "      <th>segment_id</th>\n",
       "      <th>geometry</th>\n",
       "    </tr>\n",
       "  </thead>\n",
       "  <tbody>\n",
       "    <tr>\n",
       "      <td>0</td>\n",
       "      <td>R300</td>\n",
       "      <td>Primary</td>\n",
       "      <td>Western Cape</td>\n",
       "      <td>20.2</td>\n",
       "      <td>2</td>\n",
       "      <td>Paved</td>\n",
       "      <td>FLEX</td>\n",
       "      <td>Good</td>\n",
       "      <td>471.207</td>\n",
       "      <td>D1U6OOF</td>\n",
       "      <td>LINESTRING (18.65262 -33.97724, 18.65264 -33.9...</td>\n",
       "    </tr>\n",
       "    <tr>\n",
       "      <td>1</td>\n",
       "      <td>R300</td>\n",
       "      <td>Primary</td>\n",
       "      <td>Western Cape</td>\n",
       "      <td>20.2</td>\n",
       "      <td>2</td>\n",
       "      <td>Paved</td>\n",
       "      <td>FLEX</td>\n",
       "      <td>Good</td>\n",
       "      <td>471.207</td>\n",
       "      <td>NG4X2MD</td>\n",
       "      <td>LINESTRING (18.65347 -33.97309, 18.65347 -33.9...</td>\n",
       "    </tr>\n",
       "    <tr>\n",
       "      <td>2</td>\n",
       "      <td>R300</td>\n",
       "      <td>Primary</td>\n",
       "      <td>Western Cape</td>\n",
       "      <td>20.2</td>\n",
       "      <td>2</td>\n",
       "      <td>Paved</td>\n",
       "      <td>FLEX</td>\n",
       "      <td>Good</td>\n",
       "      <td>471.207</td>\n",
       "      <td>792705Z</td>\n",
       "      <td>LINESTRING (18.65431 -33.96894, 18.65432 -33.9...</td>\n",
       "    </tr>\n",
       "    <tr>\n",
       "      <td>3</td>\n",
       "      <td>R300</td>\n",
       "      <td>Primary</td>\n",
       "      <td>Western Cape</td>\n",
       "      <td>20.2</td>\n",
       "      <td>2</td>\n",
       "      <td>Paved</td>\n",
       "      <td>FLEX</td>\n",
       "      <td>Good</td>\n",
       "      <td>471.207</td>\n",
       "      <td>IK67XHB</td>\n",
       "      <td>LINESTRING (18.65515 -33.96480, 18.65517 -33.9...</td>\n",
       "    </tr>\n",
       "    <tr>\n",
       "      <td>4</td>\n",
       "      <td>R300</td>\n",
       "      <td>Primary</td>\n",
       "      <td>Western Cape</td>\n",
       "      <td>20.2</td>\n",
       "      <td>2</td>\n",
       "      <td>Paved</td>\n",
       "      <td>FLEX</td>\n",
       "      <td>Good</td>\n",
       "      <td>471.207</td>\n",
       "      <td>OWCF2MH</td>\n",
       "      <td>LINESTRING (18.65600 -33.96065, 18.65602 -33.9...</td>\n",
       "    </tr>\n",
       "  </tbody>\n",
       "</table>\n",
       "</div>"
      ],
      "text/plain": [
       "  ROADNO    CLASS        REGION  WIDTH  LANES SURFTYPE PAVETYPE CONDITION  \\\n",
       "0   R300  Primary  Western Cape   20.2      2    Paved     FLEX      Good   \n",
       "1   R300  Primary  Western Cape   20.2      2    Paved     FLEX      Good   \n",
       "2   R300  Primary  Western Cape   20.2      2    Paved     FLEX      Good   \n",
       "3   R300  Primary  Western Cape   20.2      2    Paved     FLEX      Good   \n",
       "4   R300  Primary  Western Cape   20.2      2    Paved     FLEX      Good   \n",
       "\n",
       "   length_1 segment_id                                           geometry  \n",
       "0   471.207    D1U6OOF  LINESTRING (18.65262 -33.97724, 18.65264 -33.9...  \n",
       "1   471.207    NG4X2MD  LINESTRING (18.65347 -33.97309, 18.65347 -33.9...  \n",
       "2   471.207    792705Z  LINESTRING (18.65431 -33.96894, 18.65432 -33.9...  \n",
       "3   471.207    IK67XHB  LINESTRING (18.65515 -33.96480, 18.65517 -33.9...  \n",
       "4   471.207    OWCF2MH  LINESTRING (18.65600 -33.96065, 18.65602 -33.9...  "
      ]
     },
     "execution_count": 6,
     "metadata": {},
     "output_type": "execute_result"
    }
   ],
   "source": [
    "road.head()"
   ]
  },
  {
   "cell_type": "code",
   "execution_count": 22,
   "metadata": {},
   "outputs": [
    {
     "data": {
      "text/plain": [
       "<matplotlib.axes._subplots.AxesSubplot at 0x7f8d6e4dda10>"
      ]
     },
     "execution_count": 22,
     "metadata": {},
     "output_type": "execute_result"
    },
    {
     "data": {
      "image/png": "[encoded data removed]",
      "text/plain": [
       "<Figure size 432x288 with 1 Axes>"
      ]
     },
     "metadata": {
      "needs_background": "light"
     },
     "output_type": "display_data"
    }
   ],
   "source": [
    "road.plot()"
   ]
  },
  {
   "cell_type": "code",
   "execution_count": 23,
   "metadata": {},
   "outputs": [
    {
     "name": "stdout",
     "output_type": "stream",
     "text": [
      "\n",
      "CommandNotFoundError: No command 'conda import'.\n",
      "\n",
      "\n",
      "Note: you may need to restart the kernel to use updated packages.\n"
     ]
    }
   ],
   "source": [
    "conda import shapefile"
   ]
  },
  {
   "cell_type": "code",
   "execution_count": 24,
   "metadata": {},
   "outputs": [
    {
     "ename": "NameError",
     "evalue": "name 'shapefile' is not defined",
     "output_type": "error",
     "traceback": [
      "\u001b[0;31m---------------------------------------------------------------------------\u001b[0m",
      "\u001b[0;31mNameError\u001b[0m                                 Traceback (most recent call last)",
      "\u001b[0;32m<ipython-input-24-6b36dc07649c>\u001b[0m in \u001b[0;36m<module>\u001b[0;34m\u001b[0m\n\u001b[0;32m----> 1\u001b[0;31m \u001b[0msf\u001b[0m \u001b[0;34m=\u001b[0m \u001b[0mshapefile\u001b[0m\u001b[0;34m.\u001b[0m\u001b[0mReader\u001b[0m\u001b[0;34m(\u001b[0m\u001b[0;34m\"data/road_segments/road_segments.dbf\"\u001b[0m\u001b[0;34m)\u001b[0m\u001b[0;34m\u001b[0m\u001b[0;34m\u001b[0m\u001b[0m\n\u001b[0m",
      "\u001b[0;31mNameError\u001b[0m: name 'shapefile' is not defined"
     ]
    }
   ],
   "source": [
    "sf = shapefile.Reader(\"data/road_segments/road_segments.dbf\")"
   ]
  },
  {
   "cell_type": "code",
   "execution_count": null,
   "metadata": {},
   "outputs": [],
   "source": []
  },
  {
   "cell_type": "code",
   "execution_count": 38,
   "metadata": {},
   "outputs": [
    {
     "ename": "TypeError",
     "evalue": "'module' object is not subscriptable",
     "output_type": "error",
     "traceback": [
      "\u001b[0;31m---------------------------------------------------------------------------\u001b[0m",
      "\u001b[0;31mTypeError\u001b[0m                                 Traceback (most recent call last)",
      "\u001b[0;32m<ipython-input-38-e6c2b734bd86>\u001b[0m in \u001b[0;36m<module>\u001b[0;34m\u001b[0m\n\u001b[1;32m      1\u001b[0m \u001b[0;31m# Train on 2017\u001b[0m\u001b[0;34m\u001b[0m\u001b[0;34m\u001b[0m\u001b[0;34m\u001b[0m\u001b[0m\n\u001b[0;32m----> 2\u001b[0;31m \u001b[0mtrain\u001b[0m \u001b[0;34m=\u001b[0m \u001b[0mdf\u001b[0m\u001b[0;34m.\u001b[0m\u001b[0mloc\u001b[0m\u001b[0;34m[\u001b[0m\u001b[0mpd\u001b[0m\u001b[0;34m[\u001b[0m\u001b[0;34m'Occurrence Local Date Time'\u001b[0m\u001b[0;34m]\u001b[0m \u001b[0;34m<\u001b[0m \u001b[0;34m'2018-01-01'\u001b[0m\u001b[0;34m]\u001b[0m\u001b[0;34m\u001b[0m\u001b[0;34m\u001b[0m\u001b[0m\n\u001b[0m\u001b[1;32m      3\u001b[0m \u001b[0mtrain\u001b[0m \u001b[0;34m=\u001b[0m \u001b[0mtrain\u001b[0m\u001b[0;34m.\u001b[0m\u001b[0mloc\u001b[0m\u001b[0;34m[\u001b[0m\u001b[0mtrain\u001b[0m\u001b[0;34m[\u001b[0m\u001b[0;34m'Occurrence Local Date Time'\u001b[0m\u001b[0;34m]\u001b[0m \u001b[0;34m>=\u001b[0m \u001b[0;34m'2017-01-01'\u001b[0m\u001b[0;34m]\u001b[0m\u001b[0;34m\u001b[0m\u001b[0;34m\u001b[0m\u001b[0m\n\u001b[1;32m      4\u001b[0m \u001b[0;31m# Test locally on the last part of 2018\u001b[0m\u001b[0;34m\u001b[0m\u001b[0;34m\u001b[0m\u001b[0;34m\u001b[0m\u001b[0m\n\u001b[1;32m      5\u001b[0m \u001b[0mlocal_test\u001b[0m \u001b[0;34m=\u001b[0m \u001b[0mdf\u001b[0m\u001b[0;34m.\u001b[0m\u001b[0mloc\u001b[0m\u001b[0;34m[\u001b[0m\u001b[0mpd\u001b[0m\u001b[0;34m[\u001b[0m\u001b[0;34m'Occurrence Local Date Time'\u001b[0m\u001b[0;34m]\u001b[0m \u001b[0;34m<\u001b[0m \u001b[0;34m'2019-01-01'\u001b[0m\u001b[0;34m]\u001b[0m\u001b[0;34m\u001b[0m\u001b[0;34m\u001b[0m\u001b[0m\n",
      "\u001b[0;31mTypeError\u001b[0m: 'module' object is not subscriptable"
     ]
    }
   ],
   "source": [
    "# Train on 2017\n",
    "train = df.loc[pd['Occurrence Local Date Time'] < '2018-01-01']\n",
    "train = train.loc[train['Occurrence Local Date Time'] >= '2017-01-01']\n",
    "# Test locally on the last part of 2018\n",
    "local_test = df.loc[pd['Occurrence Local Date Time'] < '2019-01-01']\n",
    "local_test = local_test.loc[local_test['Occurrence Local Date Time'] >= '2018-09-01']\n"
   ]
  },
  {
   "cell_type": "code",
   "execution_count": 39,
   "metadata": {},
   "outputs": [
    {
     "ename": "NameError",
     "evalue": "name 'train' is not defined",
     "output_type": "error",
     "traceback": [
      "\u001b[0;31m---------------------------------------------------------------------------\u001b[0m",
      "\u001b[0;31mNameError\u001b[0m                                 Traceback (most recent call last)",
      "\u001b[0;32m<ipython-input-39-3d0f37d8cd82>\u001b[0m in \u001b[0;36m<module>\u001b[0;34m\u001b[0m\n\u001b[1;32m      9\u001b[0m \u001b[0;32mfor\u001b[0m \u001b[0msid\u001b[0m \u001b[0;32min\u001b[0m \u001b[0msids\u001b[0m\u001b[0;34m:\u001b[0m\u001b[0;34m\u001b[0m\u001b[0;34m\u001b[0m\u001b[0m\n\u001b[1;32m     10\u001b[0m     \u001b[0mtr\u001b[0m\u001b[0;34m[\u001b[0m\u001b[0mstr\u001b[0m\u001b[0;34m(\u001b[0m\u001b[0msid\u001b[0m\u001b[0;34m)\u001b[0m\u001b[0;34m]\u001b[0m \u001b[0;34m=\u001b[0m \u001b[0;36m0\u001b[0m\u001b[0;34m\u001b[0m\u001b[0;34m\u001b[0m\u001b[0m\n\u001b[0;32m---> 11\u001b[0;31m     \u001b[0mevents\u001b[0m \u001b[0;34m=\u001b[0m \u001b[0mtrain\u001b[0m\u001b[0;34m.\u001b[0m\u001b[0mloc\u001b[0m\u001b[0;34m[\u001b[0m\u001b[0mtrain\u001b[0m\u001b[0;34m[\u001b[0m\u001b[0;34m'road_segment_id'\u001b[0m\u001b[0;34m]\u001b[0m \u001b[0;34m==\u001b[0m \u001b[0msid\u001b[0m\u001b[0;34m]\u001b[0m\u001b[0;34m\u001b[0m\u001b[0;34m\u001b[0m\u001b[0m\n\u001b[0m\u001b[1;32m     12\u001b[0m     \u001b[0mdts\u001b[0m \u001b[0;34m=\u001b[0m \u001b[0mevents\u001b[0m\u001b[0;34m[\u001b[0m\u001b[0;34m'Occurrence Local Date Time'\u001b[0m\u001b[0;34m]\u001b[0m\u001b[0;34m.\u001b[0m\u001b[0mdt\u001b[0m\u001b[0;34m.\u001b[0m\u001b[0mround\u001b[0m\u001b[0;34m(\u001b[0m\u001b[0;34m'H'\u001b[0m\u001b[0;34m)\u001b[0m\u001b[0;34m\u001b[0m\u001b[0;34m\u001b[0m\u001b[0m\n\u001b[1;32m     13\u001b[0m     \u001b[0mdates\u001b[0m \u001b[0;34m=\u001b[0m \u001b[0mdts\u001b[0m\u001b[0;34m.\u001b[0m\u001b[0mastype\u001b[0m\u001b[0;34m(\u001b[0m\u001b[0mstr\u001b[0m\u001b[0;34m)\u001b[0m\u001b[0;34m.\u001b[0m\u001b[0munique\u001b[0m\u001b[0;34m(\u001b[0m\u001b[0;34m)\u001b[0m\u001b[0;34m\u001b[0m\u001b[0;34m\u001b[0m\u001b[0m\n",
      "\u001b[0;31mNameError\u001b[0m: name 'train' is not defined"
     ]
    }
   ],
   "source": [
    "#reshape \n",
    "sids = ['road_segment_id']\n",
    "\n",
    "dts = pd.date_range('2017-01-01',\n",
    "                    '2018-01-01',\n",
    "                    freq=\"1h\")\n",
    "tr = pd.DataFrame({'datetime':dts})\n",
    "\n",
    "for sid in sids:\n",
    "    tr[str(sid)] = 0\n",
    "    events = train.loc[train['road_segment_id'] == sid]\n",
    "    dts = events['Occurrence Local Date Time'].dt.round('H')\n",
    "    dates = dts.astype(str).unique()\n",
    "    tr.loc[tr['datetime'].isin(dates), sid] = 1\n",
    "tr.head()"
   ]
  },
  {
   "cell_type": "markdown",
   "metadata": {},
   "source": [
    "### Saving data"
   ]
  },
  {
   "cell_type": "code",
   "execution_count": 70,
   "metadata": {},
   "outputs": [],
   "source": [
    "df.to_csv(\"data/train_processed.csv\", index=False)"
   ]
  },
  {
   "cell_type": "markdown",
   "metadata": {},
   "source": [
    "###  Multiple group counts - injury data\n"
   ]
  },
  {
   "cell_type": "code",
   "execution_count": 80,
   "metadata": {},
   "outputs": [],
   "source": [
    "inj = pd.read_csv('data/SANRAL_v3/Injuries2016_2018.csv')"
   ]
  },
  {
   "cell_type": "code",
   "execution_count": 81,
   "metadata": {},
   "outputs": [
    {
     "name": "stdout",
     "output_type": "stream",
     "text": [
      "<class 'pandas.core.frame.DataFrame'>\n",
      "RangeIndex: 16941 entries, 0 to 16940\n",
      "Data columns (total 5 columns):\n",
      "Network ID                 16941 non-null object\n",
      "Event Id                   16941 non-null int64\n",
      "Created Local Date Time    16941 non-null object\n",
      "No Injuries                16941 non-null int64\n",
      "Injury Type                16941 non-null object\n",
      "dtypes: int64(2), object(3)\n",
      "memory usage: 661.9+ KB\n"
     ]
    },
    {
     "data": {
      "text/html": [
       "<div>\n",
       "<style scoped>\n",
       "    .dataframe tbody tr th:only-of-type {\n",
       "        vertical-align: middle;\n",
       "    }\n",
       "\n",
       "    .dataframe tbody tr th {\n",
       "        vertical-align: top;\n",
       "    }\n",
       "\n",
       "    .dataframe thead th {\n",
       "        text-align: right;\n",
       "    }\n",
       "</style>\n",
       "<table border=\"1\" class=\"dataframe\">\n",
       "  <thead>\n",
       "    <tr style=\"text-align: right;\">\n",
       "      <th></th>\n",
       "      <th>Network ID</th>\n",
       "      <th>Event Id</th>\n",
       "      <th>Created Local Date Time</th>\n",
       "      <th>No Injuries</th>\n",
       "      <th>Injury Type</th>\n",
       "    </tr>\n",
       "  </thead>\n",
       "  <tbody>\n",
       "    <tr>\n",
       "      <td>0</td>\n",
       "      <td>WC</td>\n",
       "      <td>60560</td>\n",
       "      <td>01/01/16 02:23</td>\n",
       "      <td>2</td>\n",
       "      <td>Light</td>\n",
       "    </tr>\n",
       "    <tr>\n",
       "      <td>1</td>\n",
       "      <td>WC</td>\n",
       "      <td>60565</td>\n",
       "      <td>01/01/16 07:05</td>\n",
       "      <td>4</td>\n",
       "      <td>Severe</td>\n",
       "    </tr>\n",
       "    <tr>\n",
       "      <td>2</td>\n",
       "      <td>WC</td>\n",
       "      <td>60569</td>\n",
       "      <td>01/01/16 08:43</td>\n",
       "      <td>1</td>\n",
       "      <td>Light</td>\n",
       "    </tr>\n",
       "    <tr>\n",
       "      <td>3</td>\n",
       "      <td>WC</td>\n",
       "      <td>60626</td>\n",
       "      <td>03/01/16 03:47</td>\n",
       "      <td>5</td>\n",
       "      <td>Light</td>\n",
       "    </tr>\n",
       "    <tr>\n",
       "      <td>4</td>\n",
       "      <td>WC</td>\n",
       "      <td>60631</td>\n",
       "      <td>03/01/16 08:40</td>\n",
       "      <td>2</td>\n",
       "      <td>Light</td>\n",
       "    </tr>\n",
       "  </tbody>\n",
       "</table>\n",
       "</div>"
      ],
      "text/plain": [
       "  Network ID  Event Id Created Local Date Time  No Injuries Injury Type\n",
       "0         WC     60560          01/01/16 02:23            2       Light\n",
       "1         WC     60565          01/01/16 07:05            4      Severe\n",
       "2         WC     60569          01/01/16 08:43            1       Light\n",
       "3         WC     60626          03/01/16 03:47            5       Light\n",
       "4         WC     60631          03/01/16 08:40            2       Light"
      ]
     },
     "execution_count": 81,
     "metadata": {},
     "output_type": "execute_result"
    }
   ],
   "source": [
    "inj.info()\n",
    "inj.head()"
   ]
  },
  {
   "cell_type": "code",
   "execution_count": 118,
   "metadata": {},
   "outputs": [
    {
     "name": "stdout",
     "output_type": "stream",
     "text": [
      "(16941, 5)\n"
     ]
    }
   ],
   "source": [
    "print(inj.shape)\n",
    "\n",
    "# Rows containing duplicate data\n",
    "duplicate_rows = inj[inj.duplicated()]\n"
   ]
  },
  {
   "cell_type": "code",
   "execution_count": 119,
   "metadata": {},
   "outputs": [
    {
     "name": "stdout",
     "output_type": "stream",
     "text": [
      "(16941, 5)\n"
     ]
    }
   ],
   "source": [
    "inj = inj.drop_duplicates(keep='first')\n",
    "\n",
    "print(inj.shape)"
   ]
  },
  {
   "cell_type": "code",
   "execution_count": 120,
   "metadata": {},
   "outputs": [
    {
     "data": {
      "image/png": "[encoded data removed]",
      "text/plain": [
       "<Figure size 1800x720 with 2 Axes>"
      ]
     },
     "metadata": {
      "needs_background": "light"
     },
     "output_type": "display_data"
    }
   ],
   "source": [
    "msno.matrix(inj);"
   ]
  },
  {
   "cell_type": "markdown",
   "metadata": {},
   "source": [
    "### Create a injury and time correlation"
   ]
  },
  {
   "cell_type": "code",
   "execution_count": 40,
   "metadata": {},
   "outputs": [],
   "source": [
    "def pivot_count(df, rows, columns): \n",
    "    df_pivot = df.pivot_table(\n",
    "                              index=rows, \n",
    "                              columns=columns, \n",
    "                              aggfunc=np.size\n",
    "                             ).dropna(axis=0, how='all')\n",
    "    return df_pivot"
   ]
  },
  {
   "cell_type": "code",
   "execution_count": null,
   "metadata": {},
   "outputs": [],
   "source": []
  },
  {
   "cell_type": "code",
   "execution_count": null,
   "metadata": {},
   "outputs": [],
   "source": []
  },
  {
   "cell_type": "code",
   "execution_count": null,
   "metadata": {},
   "outputs": [],
   "source": [
    " \n"
   ]
  },
  {
   "cell_type": "code",
   "execution_count": null,
   "metadata": {},
   "outputs": [],
   "source": []
  }
 ],
 "metadata": {
  "kernelspec": {
   "display_name": "Python 3",
   "language": "python",
   "name": "python3"
  },
  "language_info": {
   "codemirror_mode": {
    "name": "ipython",
    "version": 3
   },
   "file_extension": ".py",
   "mimetype": "text/x-python",
   "name": "python",
   "nbconvert_exporter": "python",
   "pygments_lexer": "ipython3",
   "version": "3.7.4"
  }
 },
 "nbformat": 4,
 "nbformat_minor": 2
}
